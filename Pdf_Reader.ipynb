{
 "cells": [
  {
   "cell_type": "code",
   "execution_count": 1,
   "metadata": {},
   "outputs": [
    {
     "name": "stderr",
     "output_type": "stream",
     "text": [
      "c:\\Users\\MAMOUD SAEED\\.conda\\envs\\llm_1\\lib\\site-packages\\tqdm\\auto.py:21: TqdmWarning: IProgress not found. Please update jupyter and ipywidgets. See https://ipywidgets.readthedocs.io/en/stable/user_install.html\n",
      "  from .autonotebook import tqdm as notebook_tqdm\n"
     ]
    }
   ],
   "source": [
    "# LangChain components to use\n",
    "from langchain.vectorstores.cassandra import Cassandra\n",
    "from langchain.indexes.vectorstore import VectorStoreIndexWrapper\n",
    "from langchain.llms import OpenAI\n",
    "from langchain.embeddings import OpenAIEmbeddings\n",
    "\n",
    "# Support for dataset retrieval with Hugging Face\n",
    "from datasets import load_dataset\n",
    "\n",
    "# With CassIO, the engine powering the Astra DB integration in LangChain,\n",
    "# you will also initialize the DB connection:\n",
    "import cassio\n",
    "\n",
    "from PyPDF2 import PdfReader\n",
    "from dotenv import load_dotenv"
   ]
  },
  {
   "cell_type": "code",
   "execution_count": 2,
   "metadata": {},
   "outputs": [],
   "source": [
    "ASTRA_DB_APPLICATION_TOKEN = \"AstraCS:...\" # enter the \"AstraCS:...\" string found in in your Token JSON file\n",
    "ASTRA_DB_ID = \"32..\" # enter your Database ID\n",
    "\n",
    "\n",
    "from dotenv import load_dotenv, find_dotenv\n",
    "_ = load_dotenv(find_dotenv()) # read local .env file"
   ]
  },
  {
   "cell_type": "code",
   "execution_count": 3,
   "metadata": {},
   "outputs": [],
   "source": [
    "# provide the path of  pdf file/files.\n",
    "pdfreader = PdfReader('aeer.2104024.pdf')"
   ]
  },
  {
   "cell_type": "code",
   "execution_count": 4,
   "metadata": {},
   "outputs": [],
   "source": [
    "from typing_extensions import Concatenate\n",
    "# read text from pdf\n",
    "pdfreader = PdfReader('aeer.2104024.pdf')\n",
    "raw_text = ''\n",
    "for i, page in enumerate(pdfreader.pages):\n",
    "    content = page.extract_text()\n",
    "    if content:\n",
    "        raw_text += content"
   ]
  },
  {
   "cell_type": "code",
   "execution_count": 5,
   "metadata": {},
   "outputs": [
    {
     "data": {
      "text/plain": [
       "'See discussions, st ats, and author pr ofiles f or this public ation at : https://www .researchgate.ne t/public ation/355234799\\nOil Spill Detection Using Satellite Imagery\\nArticle  · August 2021\\nDOI: 10.21926/ aeer .2104024\\nCITATIONS\\n4READS\\n2,827\\n3 author s, including:\\nSome o f the author s of this public ation ar e also w orking on these r elat ed pr ojects:\\nGoogle Earth Engine Applic ations  View pr oject\\nEstimation of the L eaf Ar ea Inde x (LAI), soil moist ure, and dr yness using the r ed-NIR spectr al sp ace View pr oject\\nMeisam Amani\\nWSP Envir onment & Infr astruct ure Canada Limit ed\\n122 PUBLICA TIONS \\xa0\\xa0\\xa02,594  CITATIONS \\xa0\\xa0\\xa0\\nSEE PROFILE\\nAll c ontent f ollo wing this p age was uplo aded b y Meisam Amani  on 20 Oct ober 2021.\\nThe user has r equest ed enhanc ement of the do wnlo aded file. © 2021 by the author. This is an open access article distributed under the \\nconditions of the Creative Commons by Attribution License , which permits \\nunrestricted use, distribution, and reproduction in any medium  or format , \\nprovided the original work is correctly cited.  \\n \\nOpen Access  \\nAdvances in Environmental  and \\nEngineering Research   \\nOriginal Research    \\nOil Spill Detection Using Satellite Imagery  \\nAmber Bonnington 1, Meisam Amani 2, *, Hamid Ebrahimy  3 \\n1. Ocean Mapping Diploma Program, Fisheries and Marine Institute of Memorial University of \\nNewfoundland, St. John’s, NL, Canada, A1C 5R3 ; E-Mail:  abonning@wave.mi.mun.ca   \\n2. Wood Environment and Infrastructure Solutions, Ottawa, ON, Canada, K2E 7L5 ; E-Mail:  \\nMeisam.amani@woodplc.com  \\n3. Faculty of Earth Sciences, Shahid Beheshti University, Tehran, Iran ; E-Mail:  \\nhamdebrahimy@gmail.com  \\n* Correspondence : Meisam Amani ; E-Mail: Meisam.amani@woodplc.com  \\nAcademic Editor: Giacomo De Carolis  \\nSpecial Issue : Remote Sensing and Oceans  \\nAdv Environ Eng  Res \\n2021, volume  2, issue 4 \\ndoi:10.21926/ aeer .2104024 Received:  August 13, 2021  \\nAccepted:  October 08, 2021  \\nPublished:  October 14, 2021  \\nAbstract  \\nSince oil exploration began, oil spills have become a serious problem. When drilling for oil, \\nthere is always a risk of an oil spill. With the new development of technology over the years, \\noil spill detection has become much easier making the clea n-up of a spill to happen much \\nfaster reducing the risk of a large spread. In this study, remote sensing techniques were used \\nto detect the Deep -water Horizon oil spill through a change detection method. The change \\ndetection method allows the viewer to det ermine the difference of an area before and after \\nan oil spill as well as detect the irregular difference on a surface. To confirm the effectiveness \\nof change detection method, two approaches were used each showing the differences in the \\nimages before and after the spill allowing the size and shape to be identified. The swipe tool \\nin the ArcGIS software was used to visually show the changes. The difference tool was also \\nused to both visually and statistically to investigate the difference before and after t he Deep -\\nwater Horizon oil spill event.  \\nAdv Environ Eng Res  2021; 2(4), doi:10.21926/ aeer .2104024 \\n \\nPage  2/8 Keywords  \\nOil Spill;  landsat; remote sensing; change dete ction  \\n \\n1. Introduction  \\nOil spills have a negative impact on the environment all over the world in offshore and onshore  \\nindustries  [1, 2] . Oil Spills happen in different scales. The spills can be small , such as spills when \\nrefuelling a ship, or they can be large spills such as spills that happen when pipelines break, oil ships \\nsink, and when drilling operations go wrong. When an oil spill occurs in the ocean, it becomes a \\nserious problem because  it can harm ocean creatures, make  seafood unsafe to eat, and create  \\npollution. Oil spills can  also harm ocean life in two ways of fouling and oil toxicity . Fouling is when \\noil phys ically harms a plant or animal, such as coating an animal in oil making them unable to move. \\nToxicity is when the toxic compounds cause health problems, such as heart damage and immune \\nsystem effects [3]. This can become harmful to fisheries and eventually move up the food chain to \\nconsequently effect the health of humans [1]. Although clean up occur when an oil spill occurs, the \\ncleanup activities can never remove 100% of the spills [4]. \\nAs oil spills can be hard to detect from the ground, satellite imagery allows t he researchers to \\nview the spill overhead with a larger view and coverage of the spill location  [5]. Remote ly sensed \\nimages have  successfully  been applied  to determine the size of the oil spi ll, as well as the size of the \\nthreat to the surrounding habitats  [6-8]. Various methods, such as change detection algorithms can \\nprovide valuable information about oil spill  [2]. Remote sensing in general provides the advantage \\nof being able to observe events in remote and inaccessible area with a large overhead coverage. \\nThis allows the detection of the size and shape of the spill to be considered easier  [2]. On the other \\nhand, change detection is a method that tries to investigate the changes occurred in a given area in \\ntime. A series of satellite images and chan ge detection approaches make it easy to compare the size \\nand shape of oil spills visually and statistically. For ocean spills, remote sensing can provide \\ninformation on the rate and direction of oil movement through multi -temporal imaging  [9]. \\nRemote sensing systems for oils spill detection include infrared  video and photography from \\nairborne platforms, thermal infrared imaging systems, airborne laser fluourosensors, airborne and \\nspaceborne optical sensors, as well as airborne and spaceborne Synthetic Aperture Radar systems \\n[2]. For example, Laser fluorosenors, which are as active sensors, can be used both daytime and \\nnighttime. They work for oil spills as certain compounds such as aromatic hydrocarbons present in \\noil absorb ultraviolet laser light [10]. When flying over the sea, the laser fluorosensors measures the \\nfluorescence from the natural substances and the scattering in water. When oil is detected in the \\nwater, the scattering decreases and the natural fluoresce nce signals are overlaid by the oil. The \\ndifference in the backscatter allows the sensor to detect change in the surface indicating the spill. \\nFigure 1 illustrates how oil spill is seen in a laser fluorosensors data.  Adv Environ Eng Res  2021; 2(4), doi:10.21926/ aeer .2104024 \\n \\nPage  3/8  \\nFigure 1  Oil spill detection using laser fluorsensors. Light blue color indicates oil spill  \\n(Adapted from: https://seos -project.eu/marinepollution/marinepollution -c02-s19-\\np04.fr.html ). \\nAdditionally, SAR sensors provide many advantages for oils spill detection  [11]. SAR systems can \\nprovide data under poor weather conditions and during darkness. The method of using SAR \\ndistinguishes oil spills from other surface features. SAR satellites map changes to electromagnetic \\nwaves by sending and receiving microwave pulses an d compiling the result in a two -dimensional \\nimage. Oil has an absorbing effect on such  waves, which reduces backscatter on the water surface. \\nThis implies no radar return will be generated when oil is present on the water surface [11]. Figure \\n2 demonstrates oil spill detection in an SAR image.  \\n \\nFigure  2 Oil spill detection using SAR data. Dark color indicates oil spill  [12]. \\nMoreover, optical satellite data can be effectively used for oil spill detection  [13]. Oil on the water \\nchange the spectral characteristics of the water and, thus, can  be detected by spectral analysis of \\nthe optical satellite data.  Two different frameworks have been implemented for oil spill  detection , \\nranging from automatic methods (e.g., image classification, change detection) to non -automatic \\nmethods (e.g., visual interpretation of satellite imageries) [2, 14] . Figure 3 shows how oil spill can \\nbe detected using optical remote sensing im ages.  \\nAdv Environ Eng Res  2021; 2(4), doi:10.21926/ aeer .2104024 \\n \\nPage  4/8  \\nFigure 3  Oil spill detection using optical remote sensing data. Brown color indicates oil \\nspill [15]. \\nThe purpose of conducting this research is to identify how the change detection method can be \\nused for oil spill detection from optical remote sensing data.  These methods can produce changes \\nvisually and statistically and provide a better understanding of the oil spills.  \\n2. Materials and Methods  \\nThe area selected for this research is the largest oil spill in the U.S history. The Deepwater Horizon \\nspill, which happened in the Gulf of Mexico on April 20, 2010. After the platform blew up a total of \\n134 million gallons of oil leaked into the Gulf of M exico. The oil slicks were observed across a total \\nof 43,400 square miles. With this being the largest spill and the fact that overflights could not get to \\ncapture the extent of the spill, it was realized that satellite remote sensing had to be used for \\nmapping oil on water [16]. \\nIn this study, the Landsat 7 optical satellite images were used to detect oil spill in the Gulf of \\nMexico. The data were downloaded from the Earth Explorer website \\n(https://earthexplorer.usgs.gov/ ). The L andsat 7 with the ETM+ sensor, as a whiskbroom scanner, \\nprovides repetitive satellite images of globe in eight different spectral bands , including visible, near -\\ninfrared, shortwave infrared, and thermal infrared  [17]. Two Landsat 7 images before and after the \\noil spill were used to detect oil spill through change detection methods. As discussed, the spill \\nhappened on April 20, 2010 and, thus, the images captured on March 1, 2010 and May 1, 2010 were \\nutilized.  \\nChange detection methods are generally divided into two groups of pre - and post -classificati on \\ntechniques. Change detection can be used to compare the changes in scenes of the same location \\nacquired at different times. In this study, a pre -classification change detection method was \\nemployed. To this end, the Swipe tool in the ArcGIS software was initially used to visually investigate \\nthe changes due to oil spill. The Swipe tool reveals what is beneath the selected layer interactively. \\nIt is visually showing the difference between what the satellite image should look like and then what \\nit looks aft er the spill occurred. This makes it easy to determine the location, size, and shape of the \\nspill from a visual perspective. Subsequently, the Difference tool was employed for both visual and \\nAdv Environ Eng Res  2021; 2(4), doi:10.21926/ aeer .2104024 \\n \\nPage  5/8 quantitative change analysis. The Difference tool computes a cha nge between two selected images, \\nusing pixel over pixel comparison. In other words, this tool subtracts the pixels of two images before \\nand after the oil spill event and computes a difference.  \\n3. Results and Discussion  \\nFigure 4 illustrates two Landsat images captured before and after the Deep -water Horizon oil \\nspill event. Visual analysis was performed using two images of before and after the spill within the \\nArcMap software.  \\n \\nFigure 4  Two Landsat satellite images (a) before (March 1, 2010) and (b) aft er (May 1, \\n2010) over the Deep -water  Horizon oil spill event.  \\nAs discussed, the Swipe tool was initially used to visually investigate the effects of oil spill on \\nocean water (Figure 5). By looking at both satellite images it is clear to see the size and sh ape of oil \\nspilled in that location.  \\nAdv Environ Eng Res  2021; 2(4), doi:10.21926/ aeer .2104024 \\n \\nPage  6/8  \\nFigure 5  Oil spill detection using the Swipe tool in ArcGIS.  \\nThe Difference tool within ArcMap was subsequently utilized for oil spill change detection. To \\nthis end, the difference between two images were computed, where the result is demonstrated in \\nFigure 6. In this Figure, the red and green colors represent a hig h cha nge, and the orange/yellow \\nrepresents very little/no change. It is also noticed that there were some other areas with high \\nchange values. The reason for the white areas as well as some of the other red areas was the local \\ncloud cover in one of the sat ellite images.  \\n \\nFigure 6  Oil spill change detection using the Difference tool in ArcGIS.  \\nAdv Environ Eng Res  2021; 2(4), doi:10.21926/ aeer .2104024 \\n \\nPage  7/8 It was observed that using image analysis tools within ArcGIS was very simple but efficient \\napproach to detect changes due to oil spill. Using both the Swipe and Diff erence tools, we were able \\nto show the size and shape detected of the spill by analyzing the changes in the ocean surface on \\nboth images.  \\nAlthough the method used in this study had several advantages, it also contained some \\nlimitations. For example, the spatial resolution of Landsat 7 satellite is 30m, restricting the detailed \\nanalysis of oil spill. Moreover, clouds are present in these opti cal satellite images. This can cause \\nmisinterpretation of the results because cloud also can result in the high changes (see Figure 6).  \\n4. Conclusions  \\nOil spills are ongoing  threat s to the environment . Since the Deep -water  Horizon spill happened \\nin the Gulf of Mexico in 2010, remote sensing has been used more in the field of oil spill detection. \\nThe results of this study showed that remote sensing could effectively detect any changes due to oil \\nspill. The discovery of using  remote sensing has made detecting the size and shape of oil spills much \\neasier. Future studies should develop more advanced methods using better -quality satellite images.  \\nAuthor Contributions  \\nAmber Bonnington  designed and employed the research experiments and provided the analyses. \\nMeisam Amani supervised the research and contributed to the preparation of the manuscript. \\nHamid Ebrahimy contributed to the preparation of the manuscript.  \\nCompeting Interests  \\nThe a uthors have declared tha t no competing interests exist.  \\nReferences  \\n1. Teal JM, Howarth RW. Oil spill studies: A review of ecological effects. Environ Manage. 1984; 8: \\n27-43. \\n2. Brekke C, Solberg AH. Oil spill detection by satellite remote sensing. Remote Sens En viron . 2005; \\n95: 1 -13. \\n3. NOAA. National oceanic and atmospheric admin istration  [Internet] . Historical Hurricane Tracks ; \\n2020 . Available from: https://coast.noaa.gov/hurricanes . \\n4. Fingas  M. The basics of oil spill cleanup . Boca Raton, Florida : CRC press; 2002.  \\n5. Kolokoussis P, Karathanassi V. Oil spill detection and mapping using sentinel 2 imagery. J  Mar \\nSci Eng. 2018; 6: 4.  \\n6. Ozigis MS, Kaduk JD, Jarvis CH. Mapping terrestrial oil spill im pact using machine learning \\nrandom forest and Landsat 8 OLI imagery: A case site within the Niger Delta region of Nigeria. \\nEnviron Sci Pollut Res. 2019; 26: 3621 -3635.  \\n7. Alpers W, Holt B, Zeng K. Oil spill detection by imaging radars: Challenges and pitfalls. Remote \\nSens Environ. 2017; 201: 133 -147.  \\n8. Taravat A, Del Frate F. Development of band ratioing algorithms and neural networks to \\ndetection of oil spills using Landsat ETM+ data. EURASIP J Adv Signal Process . 2012; 2012: 1 -8. Adv Environ Eng Res  2021; 2(4), doi:10.21926/ aeer .2104024 \\n \\nPage  8/8 9. Balogun AL, Yekeen ST,  Pradhan B, Althuwaynee OF. Spatio -temporal analysis of oil spill impact \\nand recovery pattern of coastal vegetation and wetland using multispectral satellite landsat 8 -\\nOLI imagery and machine learning models. Remote Sens. 2020; 12: 1225.  \\n10. Brown CE, Fingas M F. Review of the development of laser fluorosensors for oil spill application. \\nMar Pollut Bull. 2003; 47: 477 -484.  \\n11. Topouzelis KN. Oil spill detection by SAR images: Dark formation detection, feature extraction \\nand classification algorithms. Sensors. 2008; 8: 6642 -6659.  \\n12. Pavlakis P. Investigation of the potential of ERS -1/2 SAR images for monitorin g oil spill s on the \\nsea sur face . Brussels, Belgium : The  European Commission; 1995 ; EUR 16351 EN . \\n13. Lu Y, Li X, Tian Q, Zheng G, Sun S, Liu Y, et al. Progress in marine oil spill optical remote sensing: \\nDetected targets, spectral response characteristics, and theories. Mar Geodesy. 2013; 36: 334 -\\n346.  \\n14. Hu C, Lu Y, Sun S, Liu Y. Optical remote sensing of oi l spills in the oce an: What  is really possi ble. \\nJ Remote Sens. 2021; 2021: 1 -13. \\n15. Bhushan B. Bioinspired oil –water separation approaches for oil spill clean -up and water \\npurification. Philos Trans Royal Soc A . 2019; 377: 20190120.  \\n16. Gray A. Remote sensing during deepwate r Horizon  brings to light the importance of surface oil \\nin oil spill response and assessment  [Internet] . Office  of Response and Restoration;  2021 . \\nAvailable from: https://blog.response.restoration.noaa.gov/remote -sensing -during -\\ndeepwater -horizon -brings -light -importance -surface -oil-oil-spill-response -and. \\n17. Goward SN, Masek JG, Williams DL, Ir ons JR, Thompson R. The Landsat 7 mission: Terrestrial \\nresearch and applications for the 21st century. Remote Sens Environ. 2001; 78: 3 -12. \\n \\n Enjoy AEER  by:  \\n1. Submitting a manuscript   \\n2. Joining in volunteer reviewer bank  \\n3. Joining Editorial Board  \\n4. Guest editing a special issue  \\n \\nFor more details, please visit:  \\nhttp://www.lidsen.com/journals/ aeer  \\n \\nAEER  \\n \\nView publication stats'"
      ]
     },
     "execution_count": 5,
     "metadata": {},
     "output_type": "execute_result"
    }
   ],
   "source": [
    "raw_text"
   ]
  },
  {
   "cell_type": "markdown",
   "metadata": {},
   "source": [
    "Initialize the connection to your database:\n",
    "\n",
    "_(do not worry if you see a few warnings, it's just that the drivers are chatty about negotiating protocol versions with the DB.)_"
   ]
  },
  {
   "cell_type": "code",
   "execution_count": 6,
   "metadata": {},
   "outputs": [],
   "source": [
    "cassio.init(token=ASTRA_DB_APPLICATION_TOKEN, database_id=ASTRA_DB_ID)"
   ]
  },
  {
   "cell_type": "markdown",
   "metadata": {},
   "source": [
    "Create the LangChain embedding and LLM objects for later usage:"
   ]
  },
  {
   "cell_type": "code",
   "execution_count": 7,
   "metadata": {},
   "outputs": [],
   "source": [
    "llm = OpenAI()\n",
    "embedding = OpenAIEmbeddings()"
   ]
  },
  {
   "cell_type": "markdown",
   "metadata": {},
   "source": [
    "Create your LangChain vector store ... backed by Astra DB!"
   ]
  },
  {
   "cell_type": "code",
   "execution_count": 8,
   "metadata": {},
   "outputs": [],
   "source": [
    "astra_vector_store = Cassandra(\n",
    "    embedding=embedding,\n",
    "    table_name=\"qa_mini_demo\",\n",
    "    session=None,\n",
    "    keyspace=None,\n",
    ")"
   ]
  },
  {
   "cell_type": "code",
   "execution_count": 9,
   "metadata": {},
   "outputs": [],
   "source": [
    "from langchain.text_splitter import CharacterTextSplitter\n",
    "# We need to split the text using Character Text Split such that it sshould not increse token size\n",
    "text_splitter = CharacterTextSplitter(\n",
    "    separator = \"\\n\",\n",
    "    chunk_size = 800,\n",
    "    chunk_overlap  = 200,\n",
    "    length_function = len,\n",
    ")\n",
    "texts = text_splitter.split_text(raw_text)"
   ]
  },
  {
   "cell_type": "code",
   "execution_count": 10,
   "metadata": {},
   "outputs": [
    {
     "data": {
      "text/plain": [
       "29"
      ]
     },
     "execution_count": 10,
     "metadata": {},
     "output_type": "execute_result"
    }
   ],
   "source": [
    "len(texts)"
   ]
  },
  {
   "cell_type": "code",
   "execution_count": 11,
   "metadata": {},
   "outputs": [
    {
     "data": {
      "text/plain": [
       "'See discussions, st ats, and author pr ofiles f or this public ation at : https://www .researchgate.ne t/public ation/355234799\\nOil Spill Detection Using Satellite Imagery\\nArticle  · August 2021\\nDOI: 10.21926/ aeer .2104024\\nCITATIONS\\n4READS\\n2,827\\n3 author s, including:\\nSome o f the author s of this public ation ar e also w orking on these r elat ed pr ojects:\\nGoogle Earth Engine Applic ations  View pr oject\\nEstimation of the L eaf Ar ea Inde x (LAI), soil moist ure, and dr yness using the r ed-NIR spectr al sp ace View pr oject\\nMeisam Amani\\nWSP Envir onment & Infr astruct ure Canada Limit ed\\n122 PUBLICA TIONS \\xa0\\xa0\\xa02,594  CITATIONS \\xa0\\xa0\\xa0\\nSEE PROFILE\\nAll c ontent f ollo wing this p age was uplo aded b y Meisam Amani  on 20 Oct ober 2021.'"
      ]
     },
     "execution_count": 11,
     "metadata": {},
     "output_type": "execute_result"
    }
   ],
   "source": [
    "texts[0]"
   ]
  },
  {
   "cell_type": "markdown",
   "metadata": {},
   "source": [
    "### Load the dataset into the vector store\n",
    "\n"
   ]
  },
  {
   "cell_type": "code",
   "execution_count": 12,
   "metadata": {},
   "outputs": [
    {
     "name": "stdout",
     "output_type": "stream",
     "text": [
      "Inserted 29 headlines.\n"
     ]
    }
   ],
   "source": [
    "\n",
    "astra_vector_store.add_texts(texts[:29])\n",
    "\n",
    "print(\"Inserted %i headlines.\" % len(texts[:29]))\n",
    "\n",
    "astra_vector_index = VectorStoreIndexWrapper(vectorstore=astra_vector_store)"
   ]
  },
  {
   "cell_type": "code",
   "execution_count": 13,
   "metadata": {},
   "outputs": [
    {
     "name": "stdout",
     "output_type": "stream",
     "text": [
      "\n",
      "QUESTION: \"What this Doc token about?\"\n",
      "ANSWER: \"This document is about a research paper titled \"Oil Spill Detection Using Satellite Imagery\" and the authors of the paper are Amber Bonnington, Meisam Amani, and Hamid Ebrahimy.\"\n",
      "\n",
      "FIRST DOCUMENTS BY RELEVANCE:\n",
      "    [0.8651] \"The a uthors have declared tha t no competing interests exist.  \n",
      "References  \n",
      "1. Tea ...\"\n",
      "    [0.8638] \"WSP Envir onment & Infr astruct ure Canada Limit ed\n",
      "122 PUBLICA TIONS    2,594  CITA ...\"\n",
      "    [0.8626] \"J Remote Sens. 2021; 2021: 1 -13. \n",
      "15. Bhushan B. Bioinspired oil –water separation  ...\"\n",
      "    [0.8622] \"See discussions, st ats, and author pr ofiles f or this public ation at : https://ww ...\"\n",
      "\n",
      "QUESTION: \"How to detect an oil ?\"\n",
      "ANSWER: \"Oil spills can be detected using laser fluorosensors, SAR systems, and optical satellite data. Visual and statistical methods can be used for change detection from optical remote sensing data.\"\n",
      "\n",
      "FIRST DOCUMENTS BY RELEVANCE:\n",
      "    [0.9195] \"information on the rate and direction of oil movement through multi -temporal imagin ...\"\n",
      "    [0.9184] \"fluorescence from the natural substances and the scattering in water. When oil is de ...\"\n",
      "    [0.9174] \"This implies no radar return will be generated when oil is present on the water surf ...\"\n",
      "    [0.9154] \"methods (e.g., visual interpretation of satellite imageries) [2, 14] . Figure 3 show ...\"\n"
     ]
    }
   ],
   "source": [
    "first_question = True\n",
    "while True:\n",
    "    if first_question:\n",
    "        query_text = input(\"\\nEnter your question (or type 'quit' to exit): \").strip()\n",
    "    else:\n",
    "        query_text = input(\"\\nWhat's your next question (or type 'quit' to exit): \").strip()\n",
    "\n",
    "    if query_text.lower() == \"quit\":\n",
    "        break\n",
    "\n",
    "    if query_text == \"\":\n",
    "        continue\n",
    "\n",
    "    first_question = False\n",
    "\n",
    "    print(\"\\nQUESTION: \\\"%s\\\"\" % query_text)\n",
    "    answer = astra_vector_index.query(query_text, llm=llm).strip()\n",
    "    print(\"ANSWER: \\\"%s\\\"\\n\" % answer)\n",
    "\n",
    "    print(\"FIRST DOCUMENTS BY RELEVANCE:\")\n",
    "    for doc, score in astra_vector_store.similarity_search_with_score(query_text, k=3):\n",
    "        print(\"    [%0.4f] \\\"%s ...\\\"\" % (score, doc.page_content[:84]))"
   ]
  }
 ],
 "metadata": {
  "kernelspec": {
   "display_name": "llm_1",
   "language": "python",
   "name": "python3"
  },
  "language_info": {
   "codemirror_mode": {
    "name": "ipython",
    "version": 3
   },
   "file_extension": ".py",
   "mimetype": "text/x-python",
   "name": "python",
   "nbconvert_exporter": "python",
   "pygments_lexer": "ipython3",
   "version": "3.10.13"
  }
 },
 "nbformat": 4,
 "nbformat_minor": 2
}
